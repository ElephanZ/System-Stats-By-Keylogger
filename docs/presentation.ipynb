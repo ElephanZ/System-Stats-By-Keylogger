{
 "cells": [
  {
   "cell_type": "markdown",
   "id": "affaf82b",
   "metadata": {
    "slideshow": {
     "slide_type": "slide"
    }
   },
   "source": [
    "<p style=\"font-size: 37.5px\"><b>System Analytics By Windows Keylogger</b></p>\n",
    "\n",
    "<p style=\"font-size: 14px; margin-bottom: -12px;\"><i>Antonio Scardace, 1000007272</i></p>\n",
    "<p style=\"font-size: 14px; margin-bottom: -12px;\"><i>June 2022</i></p>\n",
    "<p style=\"font-size: 14px; margin-bottom: -12px;\"><i>Technologies for Advanced Programming</i></p>\n",
    "<p style=\"font-size: 14px;\"><i>Department of Mathematics and Computer Science @ University of Catania</i></p>"
   ]
  },
  {
   "cell_type": "markdown",
   "id": "053ebe31",
   "metadata": {
    "slideshow": {
     "slide_type": "slide"
    }
   },
   "source": [
    "<p style=\"font-size: 35px\" align=\"center\"><b>Aim of the Project</b></p>"
   ]
  },
  {
   "cell_type": "markdown",
   "id": "6e5f5009",
   "metadata": {
    "slideshow": {
     "slide_type": "subslide"
    }
   },
   "source": [
    "Make stats on the real-time use of the system by the user (and by users in general)."
   ]
  },
  {
   "cell_type": "markdown",
   "id": "878df745",
   "metadata": {
    "slideshow": {
     "slide_type": "subslide"
    }
   },
   "source": [
    "The following functions are available (personal and general stats):"
   ]
  },
  {
   "cell_type": "markdown",
   "id": "996ef4bf",
   "metadata": {
    "slideshow": {
     "slide_type": "fragment"
    }
   },
   "source": [
    "- For Logged Text:\n",
    "    + Top 8 Last Logged Texts\n",
    "    + Sentiment analysis"
   ]
  },
  {
   "cell_type": "markdown",
   "id": "09e4167c",
   "metadata": {
    "slideshow": {
     "slide_type": "fragment"
    }
   },
   "source": [
    "- For Metadata:\n",
    "    + Top 10 most used applications \n",
    "    + Used windows classification \n",
    "        * Social\n",
    "        * Utility\n",
    "        * Entertainment\n",
    "        * Web Browsing\n",
    "        * Office & Study\n",
    "        * Other\n",
    "    + Customers Geolocation by IP \n",
    "    + Overall time spent writing to the PC \n",
    "    + Average time spent writing in a window \n",
    "    + Average time spent writing in each category of window \n",
    "    + Overall time spent on each category of window"
   ]
  },
  {
   "cell_type": "markdown",
   "id": "d5035e50",
   "metadata": {
    "slideshow": {
     "slide_type": "subslide"
    }
   },
   "source": [
    "<p style=\"font-size: 25px\" align=\"center\"><b>Real Use Cases</b></p>"
   ]
  },
  {
   "cell_type": "markdown",
   "id": "2fa5db3c",
   "metadata": {
    "slideshow": {
     "slide_type": "fragment"
    }
   },
   "source": [
    "Let's take **Apple** and **Microsoft** as examples:\n",
    "\n",
    "Usually, each company provides a personal stats interface and owns a general stats interface that monitors a high amount of data produced in real-time every second of the day by customers' computers.\n",
    "\n",
    "It can also be used as:\n",
    "1. System Monitor for **Prison Computers**\n",
    "2. System Monitor for **Public Offices Computers**\n",
    "3. **Parental Control**\n",
    "4. **Spyware**."
   ]
  },
  {
   "cell_type": "markdown",
   "id": "756368fd",
   "metadata": {
    "slideshow": {
     "slide_type": "fragment"
    }
   },
   "source": [
    "Can it be done with old technologies? <br/>\n",
    "Yes, it can. BUT..."
   ]
  },
  {
   "cell_type": "markdown",
   "id": "1feb8fb1",
   "metadata": {
    "slideshow": {
     "slide_type": "slide"
    }
   },
   "source": [
    "<p style=\"font-size: 35px\" align=\"center\"><b>Data Source</b></p>"
   ]
  },
  {
   "cell_type": "markdown",
   "id": "08700492",
   "metadata": {
    "slideshow": {
     "slide_type": "subslide"
    }
   },
   "source": [
    "Is a Windows Keylogger for Italian keyboards only.<br/>\n",
    "Developed in C++14 using Windows APIs. <br/>"
   ]
  },
  {
   "cell_type": "markdown",
   "id": "cdffc00c",
   "metadata": {
    "slideshow": {
     "slide_type": "fragment"
    }
   },
   "source": [
    "Sends a log to the TCP server on two events:\n",
    "- On each foreground window change\n",
    "- After 1 minute of user inactivity."
   ]
  },
  {
   "cell_type": "markdown",
   "id": "9e6e6765",
   "metadata": {
    "slideshow": {
     "slide_type": "subslide"
    }
   },
   "source": [
    "The log has the following pattern:\n",
    "```\n",
    "[UUID] :: [Window Title] :: [Timestamp Start]\n",
    "Logged Text...\n",
    "[Timestamp End] :: [IP Address]\n",
    "```"
   ]
  },
  {
   "cell_type": "markdown",
   "id": "cff5ecdd",
   "metadata": {
    "slideshow": {
     "slide_type": "fragment"
    }
   },
   "source": [
    "Each log is composed by:\n",
    "- **UUID**: Identifies the PC univocally. <br/> Has the following format: xxxxxxxx-xxxx-xxxx-xxxx-xxxxxxxxxxxx.\n",
    "- **Window Title**: Is the title of the window where the user has typed.\n",
    "- **Timestamp Start**: Indicates when the user started typing in that window.\n",
    "- **Logged Text**: Is the set of keys pressed by the user and logged by the keylogger.\n",
    "- **Timestamp End**: Indicates when the user finished typing in that window.\n",
    "- **IP Address**: Is the public IP address. <br/> If the PC has no connection, the default value is \"Unknown\"."
   ]
  },
  {
   "cell_type": "markdown",
   "id": "9b1ac0c0",
   "metadata": {
    "slideshow": {
     "slide_type": "fragment"
    }
   },
   "source": [
    "For instance:\n",
    "```\n",
    "[00000000-0000-0000-0000-000000000000] :: [WhatsApp] :: [2022-01-01 12:00:00]\n",
    "Hi Nicole, happy new year!!\n",
    "[2022-01-01 12:00:13] :: [1.2.3.4]\n",
    "```"
   ]
  },
  {
   "cell_type": "markdown",
   "id": "7a689293",
   "metadata": {
    "slideshow": {
     "slide_type": "subslide"
    }
   },
   "source": [
    "![Alt Text](gifs/peter-long-nails.gif)"
   ]
  },
  {
   "cell_type": "markdown",
   "id": "ead6aef4",
   "metadata": {
    "slideshow": {
     "slide_type": "slide"
    }
   },
   "source": [
    "<p style=\"font-size: 35px\" align=\"center\"><b>Server System</b></p>"
   ]
  },
  {
   "cell_type": "markdown",
   "id": "3319d8f5",
   "metadata": {
    "slideshow": {
     "slide_type": "subslide"
    }
   },
   "source": [
    "It receives logs (from multiple clients) and passes them to the pipeline illustrated below:\n",
    "\n",
    "<img src=\"images/pipeline.png\" height=\"600px\"/>"
   ]
  },
  {
   "cell_type": "markdown",
   "id": "e60950d0",
   "metadata": {
    "slideshow": {
     "slide_type": "subslide"
    }
   },
   "source": [
    "Me proud once the design has been finished\n",
    "\n",
    "![Alt Text](gifs/stewie-sunday.gif)"
   ]
  },
  {
   "cell_type": "markdown",
   "id": "d62d1fd1",
   "metadata": {
    "slideshow": {
     "slide_type": "slide"
    }
   },
   "source": [
    "<p style=\"font-size: 35px\" align=\"center\"><b>Commonalities</b></p>"
   ]
  },
  {
   "cell_type": "markdown",
   "id": "eab92660",
   "metadata": {
    "slideshow": {
     "slide_type": "subslide"
    }
   },
   "source": [
    "<img src=\"logos/docker-logo.png?v=1653175210\" width=\"150px\" />\n",
    "\n",
    "To make the project portable and scalable, each of the following components used has been put inside a **Docker Container**. All the Docker Containers have been connected via **Docker Compose**."
   ]
  },
  {
   "cell_type": "markdown",
   "id": "0075c6a7",
   "metadata": {
    "slideshow": {
     "slide_type": "slide"
    }
   },
   "source": [
    "<p style=\"font-size: 35px\" align=\"center\"><b>Server</b></p>"
   ]
  },
  {
   "cell_type": "markdown",
   "id": "836ae8a1",
   "metadata": {
    "slideshow": {
     "slide_type": "subslide"
    }
   },
   "source": [
    "<img src=\"logos/python-logo.png?v=1653175210\" width=\"150px\" />"
   ]
  },
  {
   "cell_type": "markdown",
   "id": "e77c9a4d",
   "metadata": {
    "slideshow": {
     "slide_type": "subslide"
    }
   },
   "source": [
    "It is a multi-threading server that serves multiple clients. <br/>\n",
    "Receives logs via TCP requests on the 8800 port."
   ]
  },
  {
   "cell_type": "markdown",
   "id": "95e375f6",
   "metadata": {
    "slideshow": {
     "slide_type": "fragment"
    }
   },
   "source": [
    "It extracts the features from the logs and saves them into two CSV files:\n",
    "\n",
    "_metadata.csv_ = [UUID, Window Title, Timestamp of Begin, Timestamp of End, IP Address] <br/>\n",
    "_logs.csv_ = [UUID, Logged Text]"
   ]
  },
  {
   "cell_type": "markdown",
   "id": "08b9969e",
   "metadata": {
    "slideshow": {
     "slide_type": "subslide"
    }
   },
   "source": [
    "<p align=\"center\"><img src=\"images/server-schema.svg\"/></p>"
   ]
  },
  {
   "cell_type": "markdown",
   "id": "9578f843",
   "metadata": {
    "slideshow": {
     "slide_type": "slide"
    }
   },
   "source": [
    "<p style=\"font-size: 35px\" align=\"center\"><b>Data Ingestion</b></p>"
   ]
  },
  {
   "cell_type": "markdown",
   "id": "42c1f7ef",
   "metadata": {
    "slideshow": {
     "slide_type": "subslide"
    }
   },
   "source": [
    "<img src=\"logos/logstash-logo.png\" width=\"165px\" />"
   ]
  },
  {
   "cell_type": "markdown",
   "id": "6d6926ef",
   "metadata": {
    "slideshow": {
     "slide_type": "fragment"
    }
   },
   "source": [
    "I have used it to create two different data flow: one for the metadata and one for the text logs. Logstash takes this input data from two files, metadata.csv and logs.csv - they have been shared with the server container via a Docker volume."
   ]
  },
  {
   "cell_type": "markdown",
   "id": "c96ce875",
   "metadata": {
    "slideshow": {
     "slide_type": "slide"
    }
   },
   "source": [
    "<p style=\"font-size: 35px\" align=\"center\"><b>Data Streaming</b></p>"
   ]
  },
  {
   "cell_type": "markdown",
   "id": "1e75a75e",
   "metadata": {
    "slideshow": {
     "slide_type": "subslide"
    }
   },
   "source": [
    "<img src=\"logos/kafka-logo.png\" width=\"165px\" />"
   ]
  },
  {
   "cell_type": "markdown",
   "id": "a893230e",
   "metadata": {
    "slideshow": {
     "slide_type": "fragment"
    }
   },
   "source": [
    "I used it to make a single cluster, which has two topics: one for logs and one for metadata. It receives two different dataflows by Logstash and stores them to be pulled by Spark. **Kafka Stream** has not been used."
   ]
  },
  {
   "cell_type": "markdown",
   "id": "74fb287d",
   "metadata": {
    "slideshow": {
     "slide_type": "slide"
    }
   },
   "source": [
    "<p style=\"font-size: 35px\" align=\"center\"><b>Data Processing</b></p>"
   ]
  },
  {
   "cell_type": "markdown",
   "id": "6b5d48b2",
   "metadata": {
    "slideshow": {
     "slide_type": "subslide"
    }
   },
   "source": [
    "<img src=\"logos/spark-logo.png\" width=\"165px\" />"
   ]
  },
  {
   "cell_type": "markdown",
   "id": "1a77fb5e",
   "metadata": {
    "slideshow": {
     "slide_type": "subslide"
    }
   },
   "source": [
    "How I thought I'd end up after Spark\n",
    "\n",
    "![Alt Text](gifs/stewie-drunk.gif)"
   ]
  },
  {
   "cell_type": "markdown",
   "id": "0543f732",
   "metadata": {
    "slideshow": {
     "slide_type": "subslide"
    }
   },
   "source": [
    "I have created two Docker Containers - one for each Kafka Topic we need to read from. Each of them, after the processing, saves the docs into the ES index _keylogger_. <br/>\n",
    "In the first, Spark Streaming read data from the _logs_ topic and adds a little set of features. It is the VADER dictionary. <br/>\n",
    "In the second, Spark Streaming read data from the _metadata_ topic and adds three features: the type of the window, the difference (in seconds) between the two timestamps fields, and the public IP address geolocation coordinates (if it isn't set to \"Unknown\")."
   ]
  },
  {
   "cell_type": "markdown",
   "id": "db35cdab",
   "metadata": {
    "slideshow": {
     "slide_type": "slide"
    }
   },
   "source": [
    "<p style=\"font-size: 35px\" align=\"center\"><b>Data Storing</b></p>"
   ]
  },
  {
   "cell_type": "markdown",
   "id": "3b16dd3a",
   "metadata": {
    "slideshow": {
     "slide_type": "subslide"
    }
   },
   "source": [
    "<img src=\"logos/elasticsearch-logo.png\" width=\"275px\" />"
   ]
  },
  {
   "cell_type": "markdown",
   "id": "80d4bdb7",
   "metadata": {
    "slideshow": {
     "slide_type": "fragment"
    }
   },
   "source": [
    "I have used it to create a cluster, containing the *keylogger_stats* index, shared only by a single node: *es001*. It receives docs from Spark Streaming. Data is saved into a Docker Volume to make the application persistent in time."
   ]
  },
  {
   "cell_type": "markdown",
   "id": "ee5ae16f",
   "metadata": {
    "slideshow": {
     "slide_type": "slide"
    }
   },
   "source": [
    "<p style=\"font-size: 35px\" align=\"center\"><b>Data Visualization</b></p>"
   ]
  },
  {
   "cell_type": "markdown",
   "id": "5c46bf33",
   "metadata": {
    "slideshow": {
     "slide_type": "subslide"
    }
   },
   "source": [
    "<img src=\"logos/kibana-logo.png\" width=\"275px\" />"
   ]
  },
  {
   "cell_type": "markdown",
   "id": "3a2d2abd",
   "metadata": {
    "slideshow": {
     "slide_type": "fragment"
    }
   },
   "source": [
    "I have used it to visualize some stats in real-time - I have set the dashboard auto-refresh to happen every second. The dashboard analyzes just the data that have arrived in the last 24 hours. It shows general data (of all PCs) and if the user clicks on a specific UUID, the dashboard shows data of that particular PC. "
   ]
  },
  {
   "cell_type": "markdown",
   "id": "cfc2e110",
   "metadata": {
    "slideshow": {
     "slide_type": "subslide"
    }
   },
   "source": [
    "<p align=\"center\"><img src=\"snaps/kibana-0.png\"/></p>"
   ]
  },
  {
   "cell_type": "markdown",
   "id": "c67ea26b",
   "metadata": {
    "slideshow": {
     "slide_type": "subslide"
    }
   },
   "source": [
    "<p align=\"center\"><img src=\"snaps/kibana-1.png\"/></p>"
   ]
  },
  {
   "cell_type": "markdown",
   "id": "fb103390",
   "metadata": {
    "slideshow": {
     "slide_type": "subslide"
    }
   },
   "source": [
    "<p align=\"center\"><img src=\"snaps/kibana-2.png\"/></p>"
   ]
  },
  {
   "cell_type": "markdown",
   "id": "141b5154",
   "metadata": {
    "slideshow": {
     "slide_type": "subslide"
    }
   },
   "source": [
    "<p align=\"center\"><img src=\"snaps/kibana-3.png\"/></p>"
   ]
  },
  {
   "cell_type": "markdown",
   "id": "5cf9e80b",
   "metadata": {
    "slideshow": {
     "slide_type": "subslide"
    }
   },
   "source": [
    "<p align=\"center\"><img src=\"snaps/kibana-4.png\"/></p>"
   ]
  },
  {
   "cell_type": "markdown",
   "id": "f9afb933",
   "metadata": {
    "slideshow": {
     "slide_type": "slide"
    }
   },
   "source": [
    "<p style=\"font-size: 35px\" align=\"center\"><b>Experiments</b></p>"
   ]
  },
  {
   "cell_type": "markdown",
   "id": "99c64e9d",
   "metadata": {
    "slideshow": {
     "slide_type": "subslide"
    }
   },
   "source": [
    "- Spark NLP for Logged Text Sentiment Analysis and some other analytics\n",
    "- Upgrade the service: from local to cloud"
   ]
  },
  {
   "cell_type": "markdown",
   "id": "b46e94ab",
   "metadata": {
    "slideshow": {
     "slide_type": "slide"
    }
   },
   "source": [
    "<p style=\"font-size: 35px\" align=\"center\"><b>Requisites to getting started</b></p>\n"
   ]
  },
  {
   "cell_type": "markdown",
   "id": "4446bcfc",
   "metadata": {
    "slideshow": {
     "slide_type": "fragment"
    }
   },
   "source": [
    "* At least 12 GB of RAM.\n",
    "* At least 25 GB of free space.\n",
    "* Use of Linux, MacOS, or Windows WSL.\n",
    "* Need to download and install [Docker](https://docs.docker.com/get-docker/) (but the use of [Docker Desktop](https://www.docker.com/products/docker-desktop/) is optional).\n",
    "* The use of [Visual Studio Code](https://code.visualstudio.com/download) is strongly recommended."
   ]
  },
  {
   "cell_type": "markdown",
   "id": "b4394752",
   "metadata": {
    "slideshow": {
     "slide_type": "slide"
    }
   },
   "source": [
    "That's what the **FBI** will do to me once the project will be public... \n",
    "\n",
    "![Alt Text](gifs/peter-fbi.gif)"
   ]
  },
  {
   "cell_type": "markdown",
   "id": "25569fb9",
   "metadata": {
    "slideshow": {
     "slide_type": "slide"
    }
   },
   "source": [
    "<p style=\"font-size: 35px\" align=\"center\"><b>THANK YOU FOR YOUR ATTENTION</b></p>\n",
    "\n",
    "<p style=\"font-size: 35px\" align=\"center\"><b>LET'S SEE SOMETHING!</b></p> <br/><br/>\n",
    "\n",
    "\n",
    "PLEASE USE AND READ IT FOR ACADEMIC PURPOSES ONLY. <br/>\n",
    "I DISCLAIM ANY LIABILITY FOR ILLEGAL USE."
   ]
  }
 ],
 "metadata": {
  "celltoolbar": "Slideshow",
  "kernelspec": {
   "display_name": "Python 3 (ipykernel)",
   "language": "python",
   "name": "python3"
  },
  "language_info": {
   "codemirror_mode": {
    "name": "ipython",
    "version": 3
   },
   "file_extension": ".py",
   "mimetype": "text/x-python",
   "name": "python",
   "nbconvert_exporter": "python",
   "pygments_lexer": "ipython3",
   "version": "3.10.4"
  }
 },
 "nbformat": 4,
 "nbformat_minor": 5
}
